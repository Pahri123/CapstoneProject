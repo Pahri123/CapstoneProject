{
 "cells": [
  {
   "cell_type": "code",
   "execution_count": null,
   "metadata": {},
   "outputs": [],
   "source": [
    "import pandas as pd\n",
    "import numpy as np\n",
    "import tensorflow as tf"
   ]
  },
  {
   "cell_type": "code",
   "execution_count": null,
   "metadata": {},
   "outputs": [],
   "source": [
    "df = pd.read_csv('glints-data.csv')"
   ]
  },
  {
   "cell_type": "code",
   "execution_count": 14,
   "metadata": {},
   "outputs": [],
   "source": [
    "df.dropna(inplace=True)\n"
   ]
  },
  {
   "cell_type": "code",
   "execution_count": 15,
   "metadata": {},
   "outputs": [],
   "source": [
    "df_no_duplicates = df.drop_duplicates(subset=['id'], keep='first')"
   ]
  },
  {
   "cell_type": "code",
   "execution_count": 19,
   "metadata": {},
   "outputs": [
    {
     "name": "stdout",
     "output_type": "stream",
     "text": [
      "Head of DataFrame after operations:\n",
      "      id                            Job_title                        Company  \\\n",
      "5    gl5                             Animator             Media Fakta Global   \n",
      "6    gl6                            3D artist  PT. Citra Mediatama Indonesia   \n",
      "10  gl10                      Sales Executive        PT Istana Surya Perkasa   \n",
      "11  gl11  Digital Paid-Advertising Associates                 Based By Basil   \n",
      "12  gl12                 Senior Product Admin       PT Smoot Motor Indonesia   \n",
      "\n",
      "                              Category  \\\n",
      "5                              3ds Max   \n",
      "6                 3D MODELLING BLENDER   \n",
      "10                 Sales and Marketing   \n",
      "11                          Google Ads   \n",
      "12  Standard Operating Procedure (SOP)   \n",
      "\n",
      "                                             Location    Work_type  \\\n",
      "5   Pancoran, Jakarta Selatan, DKI Jakarta, Indonesia  Penuh Waktu   \n",
      "6   Mampang Prapatan, Jakarta Selatan, DKI Jakarta...  Penuh Waktu   \n",
      "10           Sawahan, Surabaya, Jawa Timur, Indonesia  Penuh Waktu   \n",
      "11   Kalideres, Jakarta Barat, DKI Jakarta, Indonesia  Penuh Waktu   \n",
      "12      Cakung, Jakarta Timur, DKI Jakarta, Indonesia      Kontrak   \n",
      "\n",
      "         Working_type             Salary   Experience  \\\n",
      "5   Tidak ditampilkan  Tidak ditampilkan  1 – 3 tahun   \n",
      "6   Tidak ditampilkan  Tidak ditampilkan  1 – 3 tahun   \n",
      "10  Tidak ditampilkan  Tidak ditampilkan  1 – 3 tahun   \n",
      "11  Tidak ditampilkan      Rp4,5jt-Rp6jt  1 – 3 tahun   \n",
      "12  Tidak ditampilkan  Tidak ditampilkan  3 – 5 tahun   \n",
      "\n",
      "                                               Skills  Study_requirement  \\\n",
      "5                                   Tidak ditampilkan       Sarjana (S1)   \n",
      "6                                   Tidak ditampilkan       Sarjana (S1)   \n",
      "10       Sales and Marketing, B2b Sales, Retail Sales            SMA/SMK   \n",
      "11                                  Tidak ditampilkan       Sarjana (S1)   \n",
      "12  Standard Operating Procedure (SOP), Microsoft ...  Diploma (D1 - D4)   \n",
      "\n",
      "                                                 Desc  \\\n",
      "5   Minimal S1 di bidang Animasi, Seni Rupa atau b...   \n",
      "6   Candidates must hold S1 or D3 qualifications.,...   \n",
      "10  Laki- Laki, maksimal 38 tahun, Pendidikan mini...   \n",
      "11  Manage brand ad account on Ads Manager and mon...   \n",
      "12  Laki-laki, Pendidikan Minimal D3/S1 Manajemen ...   \n",
      "\n",
      "                                                 Link  \n",
      "5   https://glints.com/id/opportunities/jobs/anima...  \n",
      "6   https://glints.com/id/opportunities/jobs/3d-ar...  \n",
      "10  https://glints.com/id/opportunities/jobs/sales...  \n",
      "11  https://glints.com/id/opportunities/jobs/digit...  \n",
      "12  https://glints.com/id/opportunities/jobs/senio...  \n"
     ]
    }
   ],
   "source": [
    "print(\"Head of DataFrame after operations:\")\n",
    "print(df_no_duplicates.head())"
   ]
  },
  {
   "cell_type": "code",
   "execution_count": 26,
   "metadata": {},
   "outputs": [
    {
     "name": "stdout",
     "output_type": "stream",
     "text": [
      "\n",
      "DataFrame info after operations:\n",
      "<class 'pandas.core.frame.DataFrame'>\n",
      "Index: 290 entries, 5 to 1078\n",
      "Data columns (total 13 columns):\n",
      " #   Column             Non-Null Count  Dtype \n",
      "---  ------             --------------  ----- \n",
      " 0   id                 290 non-null    object\n",
      " 1   Job_title          290 non-null    object\n",
      " 2   Company            290 non-null    object\n",
      " 3   Category           290 non-null    object\n",
      " 4   Location           290 non-null    object\n",
      " 5   Work_type          290 non-null    object\n",
      " 6   Working_type       290 non-null    object\n",
      " 7   Salary             290 non-null    object\n",
      " 8   Experience         290 non-null    object\n",
      " 9   Skills             290 non-null    object\n",
      " 10  Study_requirement  290 non-null    object\n",
      " 11  Desc               290 non-null    object\n",
      " 12  Link               290 non-null    object\n",
      "dtypes: object(13)\n",
      "memory usage: 31.7+ KB\n",
      "None\n"
     ]
    }
   ],
   "source": [
    "print(\"\\nDataFrame info after operations:\")\n",
    "print(df_no_duplicates.info())"
   ]
  },
  {
   "cell_type": "code",
   "execution_count": 27,
   "metadata": {},
   "outputs": [],
   "source": [
    "df_no_duplicates.to_csv('clean-glint.csv', index=False)"
   ]
  },
  {
   "cell_type": "code",
   "execution_count": null,
   "metadata": {},
   "outputs": [],
   "source": []
  }
 ],
 "metadata": {
  "kernelspec": {
   "display_name": "Python 3",
   "language": "python",
   "name": "python3"
  },
  "language_info": {
   "codemirror_mode": {
    "name": "ipython",
    "version": 3
   },
   "file_extension": ".py",
   "mimetype": "text/x-python",
   "name": "python",
   "nbconvert_exporter": "python",
   "pygments_lexer": "ipython3",
   "version": "3.11.4"
  }
 },
 "nbformat": 4,
 "nbformat_minor": 2
}
